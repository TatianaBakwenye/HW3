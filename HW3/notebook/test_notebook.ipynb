{
 "cells": [
  {
   "cell_type": "code",
   "execution_count": 60,
   "id": "f612e2ec-22e7-46f5-9a12-544d144ac4d4",
   "metadata": {},
   "outputs": [],
   "source": [
    "import sys\n",
    "sys.path.append(r'C:\\Users\\bakwe\\Documents\\GitHub\\Git extra\\HW3\\HW3')\n",
    "import pandas as pd\n",
    "import HW3\n",
    "from HW3.HW3.features.data_loading import loaddata\n",
    "from HW3.HW3.features.data_cleaning import process_data\n",
    "from HW3.HW3.features.data_cleaning import clean_na\n"
   ]
  },
  {
   "cell_type": "code",
   "execution_count": 61,
   "id": "85b6cb63",
   "metadata": {},
   "outputs": [
    {
     "name": "stdout",
     "output_type": "stream",
     "text": [
      "   Unnamed: 0  encounter_id  hospital_id   age        bmi  elective_surgery  \\\n",
      "0           0        214826          118  68.0  22.732803                 0   \n",
      "1           1        246060           81  77.0  27.421875                 0   \n",
      "2           2        276985          118  25.0  31.952749                 0   \n",
      "3           3        262220          118  81.0  22.635548                 1   \n",
      "4           4        201746           33  19.0        NaN                 0   \n",
      "\n",
      "   ethnicity gender  height hospital_admit_source  ... ventilated_apache  \\\n",
      "0  Caucasian      M   180.3                 Floor  ...                 0   \n",
      "1  Caucasian      F   160.0                 Floor  ...                 1   \n",
      "2  Caucasian      F   172.7  Emergency Department  ...                 0   \n",
      "3  Caucasian      F   165.1        Operating Room  ...                 1   \n",
      "4  Caucasian      M   188.0                   NaN  ...                 0   \n",
      "\n",
      "   wbc_apache aids cirrhosis  hepatic_failure  immunosuppression  leukemia  \\\n",
      "0        14.1    0         0                0                  0         0   \n",
      "1        12.7    0         0                0                  0         0   \n",
      "2         NaN    0         0                0                  0         0   \n",
      "3         8.0    0         0                0                  0         0   \n",
      "4         NaN    0         0                0                  0         0   \n",
      "\n",
      "   lymphoma  solid_tumor_with_metastasis  diabetes_mellitus  \n",
      "0         0                            0                  1  \n",
      "1         0                            0                  1  \n",
      "2         0                            0                  0  \n",
      "3         0                            0                  0  \n",
      "4         0                            0                  0  \n",
      "\n",
      "[5 rows x 53 columns]\n"
     ]
    }
   ],
   "source": [
    "# Load data\n",
    "df = loaddata(r'C:\\Users\\bakwe\\Documents\\GitHub\\Git extra\\HW3\\sample_diabetes_mellitus_data.csv')\n",
    "print(df.head())"
   ]
  },
  {
   "cell_type": "code",
   "execution_count": 62,
   "id": "b253f991",
   "metadata": {},
   "outputs": [
    {
     "name": "stdout",
     "output_type": "stream",
     "text": [
      "(9368, 60)\n",
      "<class 'pandas.core.frame.DataFrame'>\n",
      "Index: 9368 entries, 0 to 9999\n",
      "Data columns (total 60 columns):\n",
      " #   Column                       Non-Null Count  Dtype  \n",
      "---  ------                       --------------  -----  \n",
      " 0   Unnamed: 0                   9368 non-null   int64  \n",
      " 1   encounter_id                 9368 non-null   int64  \n",
      " 2   hospital_id                  9368 non-null   int64  \n",
      " 3   age                          9368 non-null   float64\n",
      " 4   bmi                          7746 non-null   float64\n",
      " 5   elective_surgery             9368 non-null   int64  \n",
      " 6   ethnicity                    9368 non-null   object \n",
      " 7   gender                       9368 non-null   object \n",
      " 8   height                       9368 non-null   float64\n",
      " 9   hospital_admit_source        8518 non-null   object \n",
      " 10  icu_admit_source             9347 non-null   object \n",
      " 11  icu_id                       9368 non-null   int64  \n",
      " 12  icu_stay_type                9368 non-null   object \n",
      " 13  icu_type                     9368 non-null   object \n",
      " 14  pre_icu_los_days             9368 non-null   float64\n",
      " 15  readmission_status           9368 non-null   int64  \n",
      " 16  weight                       9368 non-null   float64\n",
      " 17  albumin_apache               3322 non-null   float64\n",
      " 18  apache_2_diagnosis           9191 non-null   float64\n",
      " 19  apache_3j_diagnosis          9319 non-null   float64\n",
      " 20  apache_post_operative        9368 non-null   int64  \n",
      " 21  arf_apache                   9368 non-null   int64  \n",
      " 22  bilirubin_apache             3198 non-null   float64\n",
      " 23  bun_apache                   6996 non-null   float64\n",
      " 24  creatinine_apache            7121 non-null   float64\n",
      " 25  fio2_apache                  2785 non-null   float64\n",
      " 26  gcs_eyes_apache              9303 non-null   float64\n",
      " 27  gcs_motor_apache             9303 non-null   float64\n",
      " 28  gcs_unable_apache            9307 non-null   float64\n",
      " 29  gcs_verbal_apache            9303 non-null   float64\n",
      " 30  glucose_apache               8360 non-null   float64\n",
      " 31  heart_rate_apache            9367 non-null   float64\n",
      " 32  hematocrit_apache            7489 non-null   float64\n",
      " 33  intubated_apache             9368 non-null   int64  \n",
      " 34  map_apache                   9356 non-null   float64\n",
      " 35  paco2_apache                 2785 non-null   float64\n",
      " 36  paco2_for_ph_apache          2785 non-null   float64\n",
      " 37  pao2_apache                  2785 non-null   float64\n",
      " 38  ph_apache                    2785 non-null   float64\n",
      " 39  resprate_apache              9335 non-null   float64\n",
      " 40  sodium_apache                7047 non-null   float64\n",
      " 41  temp_apache                  9283 non-null   float64\n",
      " 42  urineoutput_apache           1387 non-null   float64\n",
      " 43  ventilated_apache            9368 non-null   int64  \n",
      " 44  wbc_apache                   7314 non-null   float64\n",
      " 45  aids                         9368 non-null   int64  \n",
      " 46  cirrhosis                    9368 non-null   int64  \n",
      " 47  hepatic_failure              9368 non-null   int64  \n",
      " 48  immunosuppression            9368 non-null   int64  \n",
      " 49  leukemia                     9368 non-null   int64  \n",
      " 50  lymphoma                     9368 non-null   int64  \n",
      " 51  solid_tumor_with_metastasis  9368 non-null   int64  \n",
      " 52  diabetes_mellitus            9368 non-null   int64  \n",
      " 53  Binary                       9368 non-null   int64  \n",
      " 54  ethnicity_African American   9368 non-null   bool   \n",
      " 55  ethnicity_Asian              9368 non-null   bool   \n",
      " 56  ethnicity_Caucasian          9368 non-null   bool   \n",
      " 57  ethnicity_Hispanic           9368 non-null   bool   \n",
      " 58  ethnicity_Native American    9368 non-null   bool   \n",
      " 59  ethnicity_Other/Unknown      9368 non-null   bool   \n",
      "dtypes: bool(6), float64(29), int64(19), object(6)\n",
      "memory usage: 4.0+ MB\n",
      "None\n"
     ]
    },
    {
     "name": "stderr",
     "output_type": "stream",
     "text": [
      "C:\\Users\\bakwe\\Documents\\GitHub\\Git extra\\HW3\\HW3\\HW3\\features\\data_cleaning.py:9: SettingWithCopyWarning: \n",
      "A value is trying to be set on a copy of a slice from a DataFrame.\n",
      "Try using .loc[row_indexer,col_indexer] = value instead\n",
      "\n",
      "See the caveats in the documentation: https://pandas.pydata.org/pandas-docs/stable/user_guide/indexing.html#returning-a-view-versus-a-copy\n",
      "  df_clean[columns_fill] = df_clean[columns_fill].apply(lambda col: col.fillna(col.mean()))\n",
      "C:\\Users\\bakwe\\Documents\\GitHub\\Git extra\\HW3\\HW3\\HW3\\features\\data_cleaning.py:10: SettingWithCopyWarning: \n",
      "A value is trying to be set on a copy of a slice from a DataFrame.\n",
      "Try using .loc[row_indexer,col_indexer] = value instead\n",
      "\n",
      "See the caveats in the documentation: https://pandas.pydata.org/pandas-docs/stable/user_guide/indexing.html#returning-a-view-versus-a-copy\n",
      "  df_clean['Binary'] = df_clean[columns_binary].apply(lambda x: 1 if x == 'M' else 0)\n"
     ]
    }
   ],
   "source": [
    "# Clean data\n",
    "columns_drop = ['age', 'gender', 'ethnicity']\n",
    "columns_fill = ['height', 'weight']\n",
    "columns_hot = ['ethnicity']\n",
    "columns_binary = 'gender'\n",
    "df_processed = process_data(df, columns_drop, columns_fill, columns_hot, columns_binary)\n",
    "\n",
    "print(df_processed.shape)\n",
    "print(df_processed.info())"
   ]
  },
  {
   "cell_type": "code",
   "execution_count": 63,
   "id": "54483fec",
   "metadata": {},
   "outputs": [],
   "source": [
    "# Function to check the results of cleaning (additional function, not required in the HW)\n",
    "def missing_values_table(df):\n",
    "        # Total missing values\n",
    "        mis_val = df.isnull().sum()\n",
    "        \n",
    "        # Percentage of missing values\n",
    "        mis_val_percent = 100 * df.isnull().sum() / len(df)\n",
    "        \n",
    "        # Make a table with the results\n",
    "        mis_val_table = pd.concat([mis_val, mis_val_percent], axis=1)\n",
    "        \n",
    "        # Rename the columns\n",
    "        mis_val_table_ren_columns = mis_val_table.rename(\n",
    "        columns = {0 : 'Missing Values', 1 : '% of Total Values'})\n",
    "        \n",
    "        # Sort the table by percentage of missing descending\n",
    "        mis_val_table_ren_columns = mis_val_table_ren_columns[\n",
    "            mis_val_table_ren_columns.iloc[:,1] != 0].sort_values(\n",
    "        '% of Total Values', ascending=False).round(1)\n",
    "\n",
    "                # Print some summary information\n",
    "        print (\"Your selected dataframe has \" + str(df.shape[1]) + \" columns.\\n\"      \n",
    "            \"There are \" + str(mis_val_table_ren_columns.shape[0]) +\n",
    "              \" columns that have missing values.\")\n",
    "        \n",
    "        # Return the dataframe with missing information\n",
    "        return mis_val_table_ren_columns"
   ]
  },
  {
   "cell_type": "code",
   "execution_count": 65,
   "id": "6ec14708",
   "metadata": {},
   "outputs": [
    {
     "name": "stdout",
     "output_type": "stream",
     "text": [
      "Your selected dataframe has 5 columns.\n",
      "There are 0 columns that have missing values.\n",
      "Empty DataFrame\n",
      "Columns: [Missing Values, % of Total Values]\n",
      "Index: []\n"
     ]
    }
   ],
   "source": [
    "# Check the results of cleaning for the columns of interest\n",
    "columns_to_check = ['age', 'gender', 'ethnicity', 'height', 'weight']\n",
    "result = missing_values_table(df_processed[columns_to_check])\n",
    "print(result)"
   ]
  }
 ],
 "metadata": {
  "kernelspec": {
   "display_name": "Python 3 (ipykernel)",
   "language": "python",
   "name": "python3"
  },
  "language_info": {
   "codemirror_mode": {
    "name": "ipython",
    "version": 3
   },
   "file_extension": ".py",
   "mimetype": "text/x-python",
   "name": "python",
   "nbconvert_exporter": "python",
   "pygments_lexer": "ipython3",
   "version": "3.9.0"
  }
 },
 "nbformat": 4,
 "nbformat_minor": 5
}
