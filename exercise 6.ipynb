{
 "cells": [
  {
   "cell_type": "markdown",
   "metadata": {},
   "source": [
    "# Packages"
   ]
  },
  {
   "cell_type": "code",
   "execution_count": 229,
   "metadata": {},
   "outputs": [],
   "source": [
    "import pandas as pd\n",
    "import seaborn as sns\n",
    "import matplotlib as ptl\n",
    "import numpy as np\n",
    "from sklearn.model_selection import train_test_split\n",
    "from sklearn.preprocessing import OneHotEncoder\n",
    "from sklearn.preprocessing import LabelEncoder\n",
    "from sklearn.ensemble import RandomForestClassifier\n",
    "from sklearn.linear_model import LogisticRegression\n",
    "from sklearn.metrics import accuracy_score"
   ]
  },
  {
   "cell_type": "markdown",
   "metadata": {},
   "source": [
    "# a) Load the data"
   ]
  },
  {
   "cell_type": "code",
   "execution_count": 191,
   "metadata": {},
   "outputs": [],
   "source": [
    "def loaddata(x):\n",
    "    dfraw = pd.read_csv(x)\n",
    "    df = pd.DataFrame(dfraw)\n",
    "    return df\n",
    "\n",
    "dataset = 'C:/Users/arimi/Documents/BSE-term1/ComputingData/HW3/sample_diabetes_mellitus_data.csv'\n",
    "df1 = loaddata(dataset)\n"
   ]
  },
  {
   "cell_type": "markdown",
   "metadata": {},
   "source": [
    "# Describe the data"
   ]
  },
  {
   "cell_type": "code",
   "execution_count": 192,
   "metadata": {},
   "outputs": [
    {
     "name": "stdout",
     "output_type": "stream",
     "text": [
      "(10000, 53)\n"
     ]
    }
   ],
   "source": [
    "print(df1.shape)"
   ]
  },
  {
   "cell_type": "code",
   "execution_count": 193,
   "metadata": {},
   "outputs": [
    {
     "name": "stdout",
     "output_type": "stream",
     "text": [
      "Unnamed: 0                        0\n",
      "encounter_id                      0\n",
      "hospital_id                       0\n",
      "age                             405\n",
      "bmi                            1738\n",
      "elective_surgery                  0\n",
      "ethnicity                       242\n",
      "gender                            3\n",
      "height                          160\n",
      "hospital_admit_source           918\n",
      "icu_admit_source                 21\n",
      "icu_id                            0\n",
      "icu_stay_type                     0\n",
      "icu_type                          0\n",
      "pre_icu_los_days                  0\n",
      "readmission_status                0\n",
      "weight                         1658\n",
      "albumin_apache                 6461\n",
      "apache_2_diagnosis              180\n",
      "apache_3j_diagnosis              51\n",
      "apache_post_operative             0\n",
      "arf_apache                        0\n",
      "bilirubin_apache               6592\n",
      "bun_apache                     2521\n",
      "creatinine_apache              2389\n",
      "fio2_apache                    7087\n",
      "gcs_eyes_apache                  69\n",
      "gcs_motor_apache                 69\n",
      "gcs_unable_apache                65\n",
      "gcs_verbal_apache                69\n",
      "glucose_apache                 1085\n",
      "heart_rate_apache                 1\n",
      "hematocrit_apache              2006\n",
      "intubated_apache                  0\n",
      "map_apache                       13\n",
      "paco2_apache                   7087\n",
      "paco2_for_ph_apache            7087\n",
      "pao2_apache                    7087\n",
      "ph_apache                      7087\n",
      "resprate_apache                  39\n",
      "sodium_apache                  2466\n",
      "temp_apache                     101\n",
      "urineoutput_apache             8477\n",
      "ventilated_apache                 0\n",
      "wbc_apache                     2198\n",
      "aids                              0\n",
      "cirrhosis                         0\n",
      "hepatic_failure                   0\n",
      "immunosuppression                 0\n",
      "leukemia                          0\n",
      "lymphoma                          0\n",
      "solid_tumor_with_metastasis       0\n",
      "diabetes_mellitus                 0\n",
      "dtype: int64\n"
     ]
    }
   ],
   "source": [
    "print((df1.isna().sum()))\n"
   ]
  },
  {
   "cell_type": "code",
   "execution_count": 194,
   "metadata": {},
   "outputs": [
    {
     "name": "stdout",
     "output_type": "stream",
     "text": [
      "405\n"
     ]
    }
   ],
   "source": [
    "print(df1['age'].isna().sum())"
   ]
  },
  {
   "cell_type": "markdown",
   "metadata": {},
   "source": [
    "# b) Split the data "
   ]
  },
  {
   "cell_type": "code",
   "execution_count": 195,
   "metadata": {},
   "outputs": [],
   "source": [
    "def splitdata(x):\n",
    "    traindf, testdf = train_test_split(x, test_size=0.4, random_state=42)\n",
    "    traindf = traindf.reset_index(drop=True)\n",
    "    testdf = testdf.reset_index(drop=True)\n",
    "    return traindf, testdf\n",
    "\n",
    "traindf1, testdf1 = splitdata(df1)"
   ]
  },
  {
   "cell_type": "code",
   "execution_count": 196,
   "metadata": {},
   "outputs": [
    {
     "name": "stdout",
     "output_type": "stream",
     "text": [
      "(6000, 53)\n"
     ]
    }
   ],
   "source": [
    "print(traindf1.shape)\n"
   ]
  },
  {
   "cell_type": "code",
   "execution_count": 197,
   "metadata": {},
   "outputs": [
    {
     "name": "stdout",
     "output_type": "stream",
     "text": [
      "(4000, 53)\n"
     ]
    }
   ],
   "source": [
    "print(testdf1.shape)"
   ]
  },
  {
   "cell_type": "code",
   "execution_count": 198,
   "metadata": {},
   "outputs": [
    {
     "name": "stdout",
     "output_type": "stream",
     "text": [
      "Unnamed: 0                        0\n",
      "encounter_id                      0\n",
      "hospital_id                       0\n",
      "age                             253\n",
      "bmi                            1039\n",
      "elective_surgery                  0\n",
      "ethnicity                       148\n",
      "gender                            2\n",
      "height                           95\n",
      "hospital_admit_source           540\n",
      "icu_admit_source                 12\n",
      "icu_id                            0\n",
      "icu_stay_type                     0\n",
      "icu_type                          0\n",
      "pre_icu_los_days                  0\n",
      "readmission_status                0\n",
      "weight                          991\n",
      "albumin_apache                 3873\n",
      "apache_2_diagnosis              118\n",
      "apache_3j_diagnosis              32\n",
      "apache_post_operative             0\n",
      "arf_apache                        0\n",
      "bilirubin_apache               3952\n",
      "bun_apache                     1511\n",
      "creatinine_apache              1422\n",
      "fio2_apache                    4242\n",
      "gcs_eyes_apache                  38\n",
      "gcs_motor_apache                 38\n",
      "gcs_unable_apache                35\n",
      "gcs_verbal_apache                38\n",
      "glucose_apache                  648\n",
      "heart_rate_apache                 0\n",
      "hematocrit_apache              1204\n",
      "intubated_apache                  0\n",
      "map_apache                        9\n",
      "paco2_apache                   4242\n",
      "paco2_for_ph_apache            4242\n",
      "pao2_apache                    4242\n",
      "ph_apache                      4242\n",
      "resprate_apache                  23\n",
      "sodium_apache                  1470\n",
      "temp_apache                      57\n",
      "urineoutput_apache             5105\n",
      "ventilated_apache                 0\n",
      "wbc_apache                     1335\n",
      "aids                              0\n",
      "cirrhosis                         0\n",
      "hepatic_failure                   0\n",
      "immunosuppression                 0\n",
      "leukemia                          0\n",
      "lymphoma                          0\n",
      "solid_tumor_with_metastasis       0\n",
      "diabetes_mellitus                 0\n",
      "dtype: int64\n"
     ]
    }
   ],
   "source": [
    "print(traindf1.isna().sum())"
   ]
  },
  {
   "cell_type": "code",
   "execution_count": 199,
   "metadata": {},
   "outputs": [
    {
     "name": "stdout",
     "output_type": "stream",
     "text": [
      "Unnamed: 0                        0\n",
      "encounter_id                      0\n",
      "hospital_id                       0\n",
      "age                             152\n",
      "bmi                             699\n",
      "elective_surgery                  0\n",
      "ethnicity                        94\n",
      "gender                            1\n",
      "height                           65\n",
      "hospital_admit_source           378\n",
      "icu_admit_source                  9\n",
      "icu_id                            0\n",
      "icu_stay_type                     0\n",
      "icu_type                          0\n",
      "pre_icu_los_days                  0\n",
      "readmission_status                0\n",
      "weight                          667\n",
      "albumin_apache                 2588\n",
      "apache_2_diagnosis               62\n",
      "apache_3j_diagnosis              19\n",
      "apache_post_operative             0\n",
      "arf_apache                        0\n",
      "bilirubin_apache               2640\n",
      "bun_apache                     1010\n",
      "creatinine_apache               967\n",
      "fio2_apache                    2845\n",
      "gcs_eyes_apache                  31\n",
      "gcs_motor_apache                 31\n",
      "gcs_unable_apache                30\n",
      "gcs_verbal_apache                31\n",
      "glucose_apache                  437\n",
      "heart_rate_apache                 1\n",
      "hematocrit_apache               802\n",
      "intubated_apache                  0\n",
      "map_apache                        4\n",
      "paco2_apache                   2845\n",
      "paco2_for_ph_apache            2845\n",
      "pao2_apache                    2845\n",
      "ph_apache                      2845\n",
      "resprate_apache                  16\n",
      "sodium_apache                   996\n",
      "temp_apache                      44\n",
      "urineoutput_apache             3372\n",
      "ventilated_apache                 0\n",
      "wbc_apache                      863\n",
      "aids                              0\n",
      "cirrhosis                         0\n",
      "hepatic_failure                   0\n",
      "immunosuppression                 0\n",
      "leukemia                          0\n",
      "lymphoma                          0\n",
      "solid_tumor_with_metastasis       0\n",
      "diabetes_mellitus                 0\n",
      "dtype: int64\n"
     ]
    }
   ],
   "source": [
    "print(testdf1.isna().sum())"
   ]
  },
  {
   "cell_type": "markdown",
   "metadata": {},
   "source": [
    "# c) Remove those rows that contain NaN values in the columns: age, gender, ethnicity."
   ]
  },
  {
   "cell_type": "code",
   "execution_count": 200,
   "metadata": {},
   "outputs": [],
   "source": [
    "def removerows(z):\n",
    "    columns_to_check = ['age', 'gender', 'ethnicity']\n",
    "    df_pairwise_deleted = z.dropna(subset=columns_to_check)\n",
    "    return df_pairwise_deleted\n",
    "\n",
    "df_d = removerows(traindf1)\n"
   ]
  },
  {
   "cell_type": "code",
   "execution_count": 201,
   "metadata": {},
   "outputs": [
    {
     "name": "stdout",
     "output_type": "stream",
     "text": [
      "(6000, 53)\n",
      "(5608, 53)\n"
     ]
    }
   ],
   "source": [
    "print(traindf1.shape)\n",
    "print(df_d.shape)"
   ]
  },
  {
   "cell_type": "code",
   "execution_count": 202,
   "metadata": {},
   "outputs": [
    {
     "name": "stdout",
     "output_type": "stream",
     "text": [
      "95\n"
     ]
    }
   ],
   "source": [
    "print((traindf1['height'].isna().sum()))"
   ]
  },
  {
   "cell_type": "code",
   "execution_count": 203,
   "metadata": {},
   "outputs": [
    {
     "name": "stdout",
     "output_type": "stream",
     "text": [
      "Unnamed: 0                        0\n",
      "encounter_id                      0\n",
      "hospital_id                       0\n",
      "age                               0\n",
      "bmi                             964\n",
      "elective_surgery                  0\n",
      "ethnicity                         0\n",
      "gender                            0\n",
      "height                           72\n",
      "hospital_admit_source           504\n",
      "icu_admit_source                 12\n",
      "icu_id                            0\n",
      "icu_stay_type                     0\n",
      "icu_type                          0\n",
      "pre_icu_los_days                  0\n",
      "readmission_status                0\n",
      "weight                          927\n",
      "albumin_apache                 3621\n",
      "apache_2_diagnosis              116\n",
      "apache_3j_diagnosis              31\n",
      "apache_post_operative             0\n",
      "arf_apache                        0\n",
      "bilirubin_apache               3694\n",
      "bun_apache                     1424\n",
      "creatinine_apache              1340\n",
      "fio2_apache                    3926\n",
      "gcs_eyes_apache                  35\n",
      "gcs_motor_apache                 35\n",
      "gcs_unable_apache                32\n",
      "gcs_verbal_apache                35\n",
      "glucose_apache                  604\n",
      "heart_rate_apache                 0\n",
      "hematocrit_apache              1132\n",
      "intubated_apache                  0\n",
      "map_apache                        8\n",
      "paco2_apache                   3926\n",
      "paco2_for_ph_apache            3926\n",
      "pao2_apache                    3926\n",
      "ph_apache                      3926\n",
      "resprate_apache                  20\n",
      "sodium_apache                  1386\n",
      "temp_apache                      49\n",
      "urineoutput_apache             4801\n",
      "ventilated_apache                 0\n",
      "wbc_apache                     1251\n",
      "aids                              0\n",
      "cirrhosis                         0\n",
      "hepatic_failure                   0\n",
      "immunosuppression                 0\n",
      "leukemia                          0\n",
      "lymphoma                          0\n",
      "solid_tumor_with_metastasis       0\n",
      "diabetes_mellitus                 0\n",
      "dtype: int64\n"
     ]
    }
   ],
   "source": [
    "print((df_d.isna().sum()))"
   ]
  },
  {
   "cell_type": "markdown",
   "metadata": {},
   "source": [
    "# d) Fill NaN with the mean value of the column in the columns: height, weight."
   ]
  },
  {
   "cell_type": "code",
   "execution_count": 204,
   "metadata": {},
   "outputs": [
    {
     "name": "stderr",
     "output_type": "stream",
     "text": [
      "C:\\Users\\arimi\\AppData\\Local\\Temp\\ipykernel_10308\\1573663772.py:4: SettingWithCopyWarning: \n",
      "A value is trying to be set on a copy of a slice from a DataFrame\n",
      "\n",
      "See the caveats in the documentation: https://pandas.pydata.org/pandas-docs/stable/user_guide/indexing.html#returning-a-view-versus-a-copy\n",
      "  w['height'].fillna(mean_height, inplace=True)\n",
      "C:\\Users\\arimi\\AppData\\Local\\Temp\\ipykernel_10308\\1573663772.py:5: SettingWithCopyWarning: \n",
      "A value is trying to be set on a copy of a slice from a DataFrame\n",
      "\n",
      "See the caveats in the documentation: https://pandas.pydata.org/pandas-docs/stable/user_guide/indexing.html#returning-a-view-versus-a-copy\n",
      "  w['weight'].fillna(mean_weight, inplace=True)\n"
     ]
    }
   ],
   "source": [
    "def fillna(w):\n",
    "    mean_height = w['height'].mean()\n",
    "    mean_weight = w['weight'].mean()\n",
    "    w['height'].fillna(mean_height, inplace=True)\n",
    "    w['weight'].fillna(mean_weight, inplace=True)\n",
    "    return w\n",
    "\n",
    "imputed_df = fillna(df_d)"
   ]
  },
  {
   "cell_type": "code",
   "execution_count": 205,
   "metadata": {},
   "outputs": [],
   "source": [
    "def fillnab(r):\n",
    "    constant = 10002301023012\n",
    "    r['height'].fillna(method='ffill', inplace=True)\n",
    "    r['weight'].fillna(constant, inplace=True)\n",
    "    return r\n",
    "\n",
    "imputed_df1 = fillnab(traindf1)"
   ]
  },
  {
   "cell_type": "code",
   "execution_count": 206,
   "metadata": {},
   "outputs": [
    {
     "name": "stdout",
     "output_type": "stream",
     "text": [
      "170.01553106936416\n"
     ]
    }
   ],
   "source": [
    "print(df_d['height'].mean())"
   ]
  },
  {
   "cell_type": "code",
   "execution_count": 207,
   "metadata": {},
   "outputs": [
    {
     "name": "stdout",
     "output_type": "stream",
     "text": [
      "169.79330000000002\n",
      "170.01553106936416\n",
      "169.79330000000002\n"
     ]
    }
   ],
   "source": [
    "print(traindf1['height'].mean())\n",
    "print(imputed_df['height'].mean())\n",
    "print(imputed_df1['height'].mean())\n"
   ]
  },
  {
   "cell_type": "markdown",
   "metadata": {},
   "source": [
    "# e) Generate dummies for ethnicity column (One hot encoding)."
   ]
  },
  {
   "cell_type": "code",
   "execution_count": 208,
   "metadata": {},
   "outputs": [
    {
     "name": "stdout",
     "output_type": "stream",
     "text": [
      "0              Caucasian\n",
      "1              Caucasian\n",
      "2       African American\n",
      "3              Caucasian\n",
      "4              Caucasian\n",
      "              ...       \n",
      "5995           Caucasian\n",
      "5996    African American\n",
      "5997           Caucasian\n",
      "5998           Caucasian\n",
      "5999           Caucasian\n",
      "Name: ethnicity, Length: 5608, dtype: object\n"
     ]
    }
   ],
   "source": [
    "print(imputed_df['ethnicity'])"
   ]
  },
  {
   "cell_type": "code",
   "execution_count": 217,
   "metadata": {},
   "outputs": [],
   "source": [
    "def encodeEthnicity(d):\n",
    "    encoder = OneHotEncoder()\n",
    "    encoded_data = encoder.fit_transform(d[['ethnicity']]).toarray()\n",
    "    encoded_df = pd.DataFrame(encoded_data, columns=encoder.get_feature_names_out (['ethnicity']))\n",
    "    encoded_df1 = pd.concat([d, encoded_df], axis=1)\n",
    "    return encoded_df1\n",
    "\n",
    "    \n",
    "encoded_df = encodeEthnicity(imputed_df)\n"
   ]
  },
  {
   "cell_type": "code",
   "execution_count": 218,
   "metadata": {},
   "outputs": [
    {
     "name": "stdout",
     "output_type": "stream",
     "text": [
      "(5976, 59)\n"
     ]
    }
   ],
   "source": [
    "print(encoded_df.shape)\n"
   ]
  },
  {
   "cell_type": "markdown",
   "metadata": {},
   "source": [
    "# f) Create a binary variable for gender M/F."
   ]
  },
  {
   "cell_type": "code",
   "execution_count": 220,
   "metadata": {},
   "outputs": [],
   "source": [
    "def vargender(f):\n",
    "    encoder = LabelEncoder()\n",
    "    f['gender_encoded'] = encoder.fit_transform(f['gender'])\n",
    "    return f\n",
    "\n",
    "final_df = vargender(encoded_df)"
   ]
  },
  {
   "cell_type": "code",
   "execution_count": 226,
   "metadata": {},
   "outputs": [
    {
     "name": "stdout",
     "output_type": "stream",
     "text": [
      "0    0\n",
      "1    1\n",
      "2    1\n",
      "3    1\n",
      "4    1\n",
      "Name: gender_encoded, dtype: int32\n"
     ]
    }
   ],
   "source": [
    "print(final_df['gender_encoded'].head())"
   ]
  },
  {
   "cell_type": "code",
   "execution_count": 227,
   "metadata": {},
   "outputs": [
    {
     "name": "stdout",
     "output_type": "stream",
     "text": [
      "count    5976.000000\n",
      "mean        0.640730\n",
      "std         0.594486\n",
      "min         0.000000\n",
      "25%         0.000000\n",
      "50%         1.000000\n",
      "75%         1.000000\n",
      "max         2.000000\n",
      "Name: gender_encoded, dtype: float64\n",
      "count     5608\n",
      "unique       2\n",
      "top          M\n",
      "freq      3093\n",
      "Name: gender, dtype: object\n"
     ]
    }
   ],
   "source": [
    "print(final_df['gender_encoded'].describe())\n"
   ]
  },
  {
   "cell_type": "code",
   "execution_count": 228,
   "metadata": {},
   "outputs": [
    {
     "name": "stdout",
     "output_type": "stream",
     "text": [
      "count     5608\n",
      "unique       2\n",
      "top          M\n",
      "freq      3093\n",
      "Name: gender, dtype: object\n"
     ]
    }
   ],
   "source": [
    "print(final_df['gender'].describe())"
   ]
  },
  {
   "cell_type": "markdown",
   "metadata": {},
   "source": [
    "# Finally Train a model and get results"
   ]
  },
  {
   "cell_type": "code",
   "execution_count": null,
   "metadata": {},
   "outputs": [],
   "source": []
  }
 ],
 "metadata": {
  "kernelspec": {
   "display_name": "base",
   "language": "python",
   "name": "python3"
  },
  "language_info": {
   "codemirror_mode": {
    "name": "ipython",
    "version": 3
   },
   "file_extension": ".py",
   "mimetype": "text/x-python",
   "name": "python",
   "nbconvert_exporter": "python",
   "pygments_lexer": "ipython3",
   "version": "3.11.4"
  }
 },
 "nbformat": 4,
 "nbformat_minor": 2
}
