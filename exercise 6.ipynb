{
 "cells": [
  {
   "cell_type": "markdown",
   "metadata": {},
   "source": [
    "# Packages"
   ]
  },
  {
   "cell_type": "code",
   "execution_count": 275,
   "metadata": {},
   "outputs": [],
   "source": [
    "import pandas as pd\n",
    "import seaborn as sns\n",
    "import matplotlib as ptl\n",
    "import numpy as np\n",
    "from sklearn.model_selection import train_test_split\n",
    "from sklearn.preprocessing import OneHotEncoder\n",
    "from sklearn.preprocessing import LabelEncoder\n",
    "from sklearn.ensemble import RandomForestClassifier\n",
    "from sklearn.linear_model import LogisticRegression\n",
    "from sklearn.metrics import accuracy_score\n",
    "from sklearn.metrics import roc_auc_score"
   ]
  },
  {
   "cell_type": "markdown",
   "metadata": {},
   "source": [
    "# a) Load the data"
   ]
  },
  {
   "cell_type": "code",
   "execution_count": 191,
   "metadata": {},
   "outputs": [],
   "source": [
    "def loaddata(x):\n",
    "    dfraw = pd.read_csv(x)\n",
    "    df = pd.DataFrame(dfraw)\n",
    "    return df\n",
    "\n",
    "dataset = 'C:/Users/arimi/Documents/BSE-term1/ComputingData/HW3/sample_diabetes_mellitus_data.csv'\n",
    "df1 = loaddata(dataset)\n"
   ]
  },
  {
   "cell_type": "markdown",
   "metadata": {},
   "source": [
    "# Describe the data"
   ]
  },
  {
   "cell_type": "code",
   "execution_count": 192,
   "metadata": {},
   "outputs": [
    {
     "name": "stdout",
     "output_type": "stream",
     "text": [
      "(10000, 53)\n"
     ]
    }
   ],
   "source": [
    "print(df1.shape)"
   ]
  },
  {
   "cell_type": "code",
   "execution_count": 193,
   "metadata": {},
   "outputs": [
    {
     "name": "stdout",
     "output_type": "stream",
     "text": [
      "Unnamed: 0                        0\n",
      "encounter_id                      0\n",
      "hospital_id                       0\n",
      "age                             405\n",
      "bmi                            1738\n",
      "elective_surgery                  0\n",
      "ethnicity                       242\n",
      "gender                            3\n",
      "height                          160\n",
      "hospital_admit_source           918\n",
      "icu_admit_source                 21\n",
      "icu_id                            0\n",
      "icu_stay_type                     0\n",
      "icu_type                          0\n",
      "pre_icu_los_days                  0\n",
      "readmission_status                0\n",
      "weight                         1658\n",
      "albumin_apache                 6461\n",
      "apache_2_diagnosis              180\n",
      "apache_3j_diagnosis              51\n",
      "apache_post_operative             0\n",
      "arf_apache                        0\n",
      "bilirubin_apache               6592\n",
      "bun_apache                     2521\n",
      "creatinine_apache              2389\n",
      "fio2_apache                    7087\n",
      "gcs_eyes_apache                  69\n",
      "gcs_motor_apache                 69\n",
      "gcs_unable_apache                65\n",
      "gcs_verbal_apache                69\n",
      "glucose_apache                 1085\n",
      "heart_rate_apache                 1\n",
      "hematocrit_apache              2006\n",
      "intubated_apache                  0\n",
      "map_apache                       13\n",
      "paco2_apache                   7087\n",
      "paco2_for_ph_apache            7087\n",
      "pao2_apache                    7087\n",
      "ph_apache                      7087\n",
      "resprate_apache                  39\n",
      "sodium_apache                  2466\n",
      "temp_apache                     101\n",
      "urineoutput_apache             8477\n",
      "ventilated_apache                 0\n",
      "wbc_apache                     2198\n",
      "aids                              0\n",
      "cirrhosis                         0\n",
      "hepatic_failure                   0\n",
      "immunosuppression                 0\n",
      "leukemia                          0\n",
      "lymphoma                          0\n",
      "solid_tumor_with_metastasis       0\n",
      "diabetes_mellitus                 0\n",
      "dtype: int64\n"
     ]
    }
   ],
   "source": [
    "print((df1.isna().sum()))\n"
   ]
  },
  {
   "cell_type": "code",
   "execution_count": 194,
   "metadata": {},
   "outputs": [
    {
     "name": "stdout",
     "output_type": "stream",
     "text": [
      "405\n"
     ]
    }
   ],
   "source": [
    "print(df1['age'].isna().sum())"
   ]
  },
  {
   "cell_type": "markdown",
   "metadata": {},
   "source": [
    "# b) Split the data "
   ]
  },
  {
   "cell_type": "code",
   "execution_count": 195,
   "metadata": {},
   "outputs": [],
   "source": [
    "def splitdata(x):\n",
    "    traindf, testdf = train_test_split(x, test_size=0.4, random_state=42)\n",
    "    traindf = traindf.reset_index(drop=True)\n",
    "    testdf = testdf.reset_index(drop=True)\n",
    "    return traindf, testdf\n",
    "\n",
    "traindf1, testdf1 = splitdata(df1)"
   ]
  },
  {
   "cell_type": "code",
   "execution_count": 196,
   "metadata": {},
   "outputs": [
    {
     "name": "stdout",
     "output_type": "stream",
     "text": [
      "(6000, 53)\n"
     ]
    }
   ],
   "source": [
    "print(traindf1.shape)\n"
   ]
  },
  {
   "cell_type": "code",
   "execution_count": 197,
   "metadata": {},
   "outputs": [
    {
     "name": "stdout",
     "output_type": "stream",
     "text": [
      "(4000, 53)\n"
     ]
    }
   ],
   "source": [
    "print(testdf1.shape)"
   ]
  },
  {
   "cell_type": "code",
   "execution_count": 198,
   "metadata": {},
   "outputs": [
    {
     "name": "stdout",
     "output_type": "stream",
     "text": [
      "Unnamed: 0                        0\n",
      "encounter_id                      0\n",
      "hospital_id                       0\n",
      "age                             253\n",
      "bmi                            1039\n",
      "elective_surgery                  0\n",
      "ethnicity                       148\n",
      "gender                            2\n",
      "height                           95\n",
      "hospital_admit_source           540\n",
      "icu_admit_source                 12\n",
      "icu_id                            0\n",
      "icu_stay_type                     0\n",
      "icu_type                          0\n",
      "pre_icu_los_days                  0\n",
      "readmission_status                0\n",
      "weight                          991\n",
      "albumin_apache                 3873\n",
      "apache_2_diagnosis              118\n",
      "apache_3j_diagnosis              32\n",
      "apache_post_operative             0\n",
      "arf_apache                        0\n",
      "bilirubin_apache               3952\n",
      "bun_apache                     1511\n",
      "creatinine_apache              1422\n",
      "fio2_apache                    4242\n",
      "gcs_eyes_apache                  38\n",
      "gcs_motor_apache                 38\n",
      "gcs_unable_apache                35\n",
      "gcs_verbal_apache                38\n",
      "glucose_apache                  648\n",
      "heart_rate_apache                 0\n",
      "hematocrit_apache              1204\n",
      "intubated_apache                  0\n",
      "map_apache                        9\n",
      "paco2_apache                   4242\n",
      "paco2_for_ph_apache            4242\n",
      "pao2_apache                    4242\n",
      "ph_apache                      4242\n",
      "resprate_apache                  23\n",
      "sodium_apache                  1470\n",
      "temp_apache                      57\n",
      "urineoutput_apache             5105\n",
      "ventilated_apache                 0\n",
      "wbc_apache                     1335\n",
      "aids                              0\n",
      "cirrhosis                         0\n",
      "hepatic_failure                   0\n",
      "immunosuppression                 0\n",
      "leukemia                          0\n",
      "lymphoma                          0\n",
      "solid_tumor_with_metastasis       0\n",
      "diabetes_mellitus                 0\n",
      "dtype: int64\n"
     ]
    }
   ],
   "source": [
    "print(traindf1.isna().sum())"
   ]
  },
  {
   "cell_type": "code",
   "execution_count": 199,
   "metadata": {},
   "outputs": [
    {
     "name": "stdout",
     "output_type": "stream",
     "text": [
      "Unnamed: 0                        0\n",
      "encounter_id                      0\n",
      "hospital_id                       0\n",
      "age                             152\n",
      "bmi                             699\n",
      "elective_surgery                  0\n",
      "ethnicity                        94\n",
      "gender                            1\n",
      "height                           65\n",
      "hospital_admit_source           378\n",
      "icu_admit_source                  9\n",
      "icu_id                            0\n",
      "icu_stay_type                     0\n",
      "icu_type                          0\n",
      "pre_icu_los_days                  0\n",
      "readmission_status                0\n",
      "weight                          667\n",
      "albumin_apache                 2588\n",
      "apache_2_diagnosis               62\n",
      "apache_3j_diagnosis              19\n",
      "apache_post_operative             0\n",
      "arf_apache                        0\n",
      "bilirubin_apache               2640\n",
      "bun_apache                     1010\n",
      "creatinine_apache               967\n",
      "fio2_apache                    2845\n",
      "gcs_eyes_apache                  31\n",
      "gcs_motor_apache                 31\n",
      "gcs_unable_apache                30\n",
      "gcs_verbal_apache                31\n",
      "glucose_apache                  437\n",
      "heart_rate_apache                 1\n",
      "hematocrit_apache               802\n",
      "intubated_apache                  0\n",
      "map_apache                        4\n",
      "paco2_apache                   2845\n",
      "paco2_for_ph_apache            2845\n",
      "pao2_apache                    2845\n",
      "ph_apache                      2845\n",
      "resprate_apache                  16\n",
      "sodium_apache                   996\n",
      "temp_apache                      44\n",
      "urineoutput_apache             3372\n",
      "ventilated_apache                 0\n",
      "wbc_apache                      863\n",
      "aids                              0\n",
      "cirrhosis                         0\n",
      "hepatic_failure                   0\n",
      "immunosuppression                 0\n",
      "leukemia                          0\n",
      "lymphoma                          0\n",
      "solid_tumor_with_metastasis       0\n",
      "diabetes_mellitus                 0\n",
      "dtype: int64\n"
     ]
    }
   ],
   "source": [
    "print(testdf1.isna().sum())"
   ]
  },
  {
   "cell_type": "markdown",
   "metadata": {},
   "source": [
    "# c) Remove those rows that contain NaN values in the columns: age, gender, ethnicity."
   ]
  },
  {
   "cell_type": "code",
   "execution_count": 264,
   "metadata": {},
   "outputs": [],
   "source": [
    "def removerows(z):\n",
    "    columns_to_check = ['age', 'gender', 'ethnicity']\n",
    "    df_pairwise_deleted = z.dropna(subset=columns_to_check)\n",
    "    return df_pairwise_deleted\n",
    "\n",
    "df_d = removerows(traindf1)\n",
    "dft = removerows(testdf1)\n"
   ]
  },
  {
   "cell_type": "code",
   "execution_count": 201,
   "metadata": {},
   "outputs": [
    {
     "name": "stdout",
     "output_type": "stream",
     "text": [
      "(6000, 53)\n",
      "(5608, 53)\n"
     ]
    }
   ],
   "source": [
    "print(traindf1.shape)\n",
    "print(df_d.shape)"
   ]
  },
  {
   "cell_type": "code",
   "execution_count": 202,
   "metadata": {},
   "outputs": [
    {
     "name": "stdout",
     "output_type": "stream",
     "text": [
      "95\n"
     ]
    }
   ],
   "source": [
    "print((traindf1['height'].isna().sum()))"
   ]
  },
  {
   "cell_type": "code",
   "execution_count": 203,
   "metadata": {},
   "outputs": [
    {
     "name": "stdout",
     "output_type": "stream",
     "text": [
      "Unnamed: 0                        0\n",
      "encounter_id                      0\n",
      "hospital_id                       0\n",
      "age                               0\n",
      "bmi                             964\n",
      "elective_surgery                  0\n",
      "ethnicity                         0\n",
      "gender                            0\n",
      "height                           72\n",
      "hospital_admit_source           504\n",
      "icu_admit_source                 12\n",
      "icu_id                            0\n",
      "icu_stay_type                     0\n",
      "icu_type                          0\n",
      "pre_icu_los_days                  0\n",
      "readmission_status                0\n",
      "weight                          927\n",
      "albumin_apache                 3621\n",
      "apache_2_diagnosis              116\n",
      "apache_3j_diagnosis              31\n",
      "apache_post_operative             0\n",
      "arf_apache                        0\n",
      "bilirubin_apache               3694\n",
      "bun_apache                     1424\n",
      "creatinine_apache              1340\n",
      "fio2_apache                    3926\n",
      "gcs_eyes_apache                  35\n",
      "gcs_motor_apache                 35\n",
      "gcs_unable_apache                32\n",
      "gcs_verbal_apache                35\n",
      "glucose_apache                  604\n",
      "heart_rate_apache                 0\n",
      "hematocrit_apache              1132\n",
      "intubated_apache                  0\n",
      "map_apache                        8\n",
      "paco2_apache                   3926\n",
      "paco2_for_ph_apache            3926\n",
      "pao2_apache                    3926\n",
      "ph_apache                      3926\n",
      "resprate_apache                  20\n",
      "sodium_apache                  1386\n",
      "temp_apache                      49\n",
      "urineoutput_apache             4801\n",
      "ventilated_apache                 0\n",
      "wbc_apache                     1251\n",
      "aids                              0\n",
      "cirrhosis                         0\n",
      "hepatic_failure                   0\n",
      "immunosuppression                 0\n",
      "leukemia                          0\n",
      "lymphoma                          0\n",
      "solid_tumor_with_metastasis       0\n",
      "diabetes_mellitus                 0\n",
      "dtype: int64\n"
     ]
    }
   ],
   "source": [
    "print((df_d.isna().sum()))"
   ]
  },
  {
   "cell_type": "markdown",
   "metadata": {},
   "source": [
    "# d) Fill NaN with the mean value of the column in the columns: height, weight."
   ]
  },
  {
   "cell_type": "code",
   "execution_count": 266,
   "metadata": {},
   "outputs": [
    {
     "name": "stderr",
     "output_type": "stream",
     "text": [
      "C:\\Users\\arimi\\AppData\\Local\\Temp\\ipykernel_10308\\3174185100.py:4: SettingWithCopyWarning: \n",
      "A value is trying to be set on a copy of a slice from a DataFrame\n",
      "\n",
      "See the caveats in the documentation: https://pandas.pydata.org/pandas-docs/stable/user_guide/indexing.html#returning-a-view-versus-a-copy\n",
      "  w['height'].fillna(mean_height, inplace=True)\n",
      "C:\\Users\\arimi\\AppData\\Local\\Temp\\ipykernel_10308\\3174185100.py:5: SettingWithCopyWarning: \n",
      "A value is trying to be set on a copy of a slice from a DataFrame\n",
      "\n",
      "See the caveats in the documentation: https://pandas.pydata.org/pandas-docs/stable/user_guide/indexing.html#returning-a-view-versus-a-copy\n",
      "  w['weight'].fillna(mean_weight, inplace=True)\n"
     ]
    }
   ],
   "source": [
    "def fillna(w):\n",
    "    mean_height = w['height'].mean()\n",
    "    mean_weight = w['weight'].mean()\n",
    "    w['height'].fillna(mean_height, inplace=True)\n",
    "    w['weight'].fillna(mean_weight, inplace=True)\n",
    "    return w\n",
    "\n",
    "imputed_df = fillna(df_d)\n",
    "dft1 = fillna(dft)"
   ]
  },
  {
   "cell_type": "code",
   "execution_count": 205,
   "metadata": {},
   "outputs": [],
   "source": [
    "def fillnab(r):\n",
    "    constant = 10002301023012\n",
    "    r['height'].fillna(method='ffill', inplace=True)\n",
    "    r['weight'].fillna(constant, inplace=True)\n",
    "    return r\n",
    "\n",
    "imputed_df1 = fillnab(traindf1)"
   ]
  },
  {
   "cell_type": "code",
   "execution_count": 206,
   "metadata": {},
   "outputs": [
    {
     "name": "stdout",
     "output_type": "stream",
     "text": [
      "170.01553106936416\n"
     ]
    }
   ],
   "source": [
    "print(df_d['height'].mean())"
   ]
  },
  {
   "cell_type": "code",
   "execution_count": 250,
   "metadata": {},
   "outputs": [
    {
     "name": "stdout",
     "output_type": "stream",
     "text": [
      "169.79330000000002\n",
      "170.01553106936416\n",
      "169.79330000000002\n"
     ]
    }
   ],
   "source": [
    "print(traindf1['height'].mean())\n",
    "print(imputed_df['height'].mean())\n",
    "print(imputed_df1['height'].mean())\n"
   ]
  },
  {
   "cell_type": "code",
   "execution_count": 238,
   "metadata": {},
   "outputs": [
    {
     "name": "stdout",
     "output_type": "stream",
     "text": [
      "(5608, 53)\n"
     ]
    }
   ],
   "source": [
    "print(imputed_df.shape)"
   ]
  },
  {
   "cell_type": "code",
   "execution_count": 251,
   "metadata": {},
   "outputs": [
    {
     "name": "stdout",
     "output_type": "stream",
     "text": [
      "Unnamed: 0                        0\n",
      "encounter_id                      0\n",
      "hospital_id                       0\n",
      "age                               0\n",
      "bmi                             964\n",
      "elective_surgery                  0\n",
      "ethnicity                         0\n",
      "gender                            0\n",
      "height                            0\n",
      "hospital_admit_source           504\n",
      "icu_admit_source                 12\n",
      "icu_id                            0\n",
      "icu_stay_type                     0\n",
      "icu_type                          0\n",
      "pre_icu_los_days                  0\n",
      "readmission_status                0\n",
      "weight                            0\n",
      "albumin_apache                 3621\n",
      "apache_2_diagnosis              116\n",
      "apache_3j_diagnosis              31\n",
      "apache_post_operative             0\n",
      "arf_apache                        0\n",
      "bilirubin_apache               3694\n",
      "bun_apache                     1424\n",
      "creatinine_apache              1340\n",
      "fio2_apache                    3926\n",
      "gcs_eyes_apache                  35\n",
      "gcs_motor_apache                 35\n",
      "gcs_unable_apache                32\n",
      "gcs_verbal_apache                35\n",
      "glucose_apache                  604\n",
      "heart_rate_apache                 0\n",
      "hematocrit_apache              1132\n",
      "intubated_apache                  0\n",
      "map_apache                        8\n",
      "paco2_apache                   3926\n",
      "paco2_for_ph_apache            3926\n",
      "pao2_apache                    3926\n",
      "ph_apache                      3926\n",
      "resprate_apache                  20\n",
      "sodium_apache                  1386\n",
      "temp_apache                      49\n",
      "urineoutput_apache             4801\n",
      "ventilated_apache                 0\n",
      "wbc_apache                     1251\n",
      "aids                              0\n",
      "cirrhosis                         0\n",
      "hepatic_failure                   0\n",
      "immunosuppression                 0\n",
      "leukemia                          0\n",
      "lymphoma                          0\n",
      "solid_tumor_with_metastasis       0\n",
      "diabetes_mellitus                 0\n",
      "dtype: int64\n"
     ]
    }
   ],
   "source": [
    "print(imputed_df.isna().sum())\n"
   ]
  },
  {
   "cell_type": "markdown",
   "metadata": {},
   "source": [
    "# e) Generate dummies for ethnicity column (One hot encoding)."
   ]
  },
  {
   "cell_type": "code",
   "execution_count": 208,
   "metadata": {},
   "outputs": [
    {
     "name": "stdout",
     "output_type": "stream",
     "text": [
      "0              Caucasian\n",
      "1              Caucasian\n",
      "2       African American\n",
      "3              Caucasian\n",
      "4              Caucasian\n",
      "              ...       \n",
      "5995           Caucasian\n",
      "5996    African American\n",
      "5997           Caucasian\n",
      "5998           Caucasian\n",
      "5999           Caucasian\n",
      "Name: ethnicity, Length: 5608, dtype: object\n"
     ]
    }
   ],
   "source": [
    "print(imputed_df['ethnicity'])"
   ]
  },
  {
   "cell_type": "code",
   "execution_count": 246,
   "metadata": {},
   "outputs": [],
   "source": [
    "def encodeEthnicity(d):\n",
    "    encoder = OneHotEncoder()\n",
    "    encoded_data = encoder.fit_transform(d[['ethnicity']]).toarray()\n",
    "    encoded_df = pd.DataFrame(encoded_data, columns=encoder.get_feature_names_out (['ethnicity']))\n",
    "    encoded_df1 = pd.concat([d, encoded_df], axis=1)\n",
    "    return encoded_df1\n",
    "\n",
    "    \n",
    "encoded_df1 = encodeEthnicity(imputed_df)\n"
   ]
  },
  {
   "cell_type": "code",
   "execution_count": 247,
   "metadata": {},
   "outputs": [
    {
     "name": "stdout",
     "output_type": "stream",
     "text": [
      "(5976, 59)\n"
     ]
    }
   ],
   "source": [
    "print(encoded_df1.shape)\n"
   ]
  },
  {
   "cell_type": "code",
   "execution_count": 248,
   "metadata": {},
   "outputs": [
    {
     "name": "stdout",
     "output_type": "stream",
     "text": [
      "Unnamed: 0                      368\n",
      "encounter_id                    368\n",
      "hospital_id                     368\n",
      "age                             368\n",
      "bmi                            1332\n",
      "elective_surgery                368\n",
      "ethnicity                       368\n",
      "gender                          368\n",
      "height                          368\n",
      "hospital_admit_source           872\n",
      "icu_admit_source                380\n",
      "icu_id                          368\n",
      "icu_stay_type                   368\n",
      "icu_type                        368\n",
      "pre_icu_los_days                368\n",
      "readmission_status              368\n",
      "weight                          368\n",
      "albumin_apache                 3989\n",
      "apache_2_diagnosis              484\n",
      "apache_3j_diagnosis             399\n",
      "apache_post_operative           368\n",
      "arf_apache                      368\n",
      "bilirubin_apache               4062\n",
      "bun_apache                     1792\n",
      "creatinine_apache              1708\n",
      "fio2_apache                    4294\n",
      "gcs_eyes_apache                 403\n",
      "gcs_motor_apache                403\n",
      "gcs_unable_apache               400\n",
      "gcs_verbal_apache               403\n",
      "glucose_apache                  972\n",
      "heart_rate_apache               368\n",
      "hematocrit_apache              1500\n",
      "intubated_apache                368\n",
      "map_apache                      376\n",
      "paco2_apache                   4294\n",
      "paco2_for_ph_apache            4294\n",
      "pao2_apache                    4294\n",
      "ph_apache                      4294\n",
      "resprate_apache                 388\n",
      "sodium_apache                  1754\n",
      "temp_apache                     417\n",
      "urineoutput_apache             5169\n",
      "ventilated_apache               368\n",
      "wbc_apache                     1619\n",
      "aids                            368\n",
      "cirrhosis                       368\n",
      "hepatic_failure                 368\n",
      "immunosuppression               368\n",
      "leukemia                        368\n",
      "lymphoma                        368\n",
      "solid_tumor_with_metastasis     368\n",
      "diabetes_mellitus               368\n",
      "ethnicity_African American      368\n",
      "ethnicity_Asian                 368\n",
      "ethnicity_Caucasian             368\n",
      "ethnicity_Hispanic              368\n",
      "ethnicity_Native American       368\n",
      "ethnicity_Other/Unknown         368\n",
      "dtype: int64\n"
     ]
    }
   ],
   "source": [
    "print(encoded_df1.isna().sum())"
   ]
  },
  {
   "cell_type": "markdown",
   "metadata": {},
   "source": [
    "# f) Create a binary variable for gender M/F."
   ]
  },
  {
   "cell_type": "code",
   "execution_count": 220,
   "metadata": {},
   "outputs": [],
   "source": [
    "def vargender(f):\n",
    "    encoder = LabelEncoder()\n",
    "    f['gender_encoded'] = encoder.fit_transform(f['gender'])\n",
    "    return f\n",
    "\n",
    "final_df = vargender(encoded_df)"
   ]
  },
  {
   "cell_type": "code",
   "execution_count": 226,
   "metadata": {},
   "outputs": [
    {
     "name": "stdout",
     "output_type": "stream",
     "text": [
      "0    0\n",
      "1    1\n",
      "2    1\n",
      "3    1\n",
      "4    1\n",
      "Name: gender_encoded, dtype: int32\n"
     ]
    }
   ],
   "source": [
    "print(final_df['gender_encoded'].head())"
   ]
  },
  {
   "cell_type": "code",
   "execution_count": 227,
   "metadata": {},
   "outputs": [
    {
     "name": "stdout",
     "output_type": "stream",
     "text": [
      "count    5976.000000\n",
      "mean        0.640730\n",
      "std         0.594486\n",
      "min         0.000000\n",
      "25%         0.000000\n",
      "50%         1.000000\n",
      "75%         1.000000\n",
      "max         2.000000\n",
      "Name: gender_encoded, dtype: float64\n",
      "count     5608\n",
      "unique       2\n",
      "top          M\n",
      "freq      3093\n",
      "Name: gender, dtype: object\n"
     ]
    }
   ],
   "source": [
    "print(final_df['gender_encoded'].describe())\n"
   ]
  },
  {
   "cell_type": "code",
   "execution_count": 228,
   "metadata": {},
   "outputs": [
    {
     "name": "stdout",
     "output_type": "stream",
     "text": [
      "count     5608\n",
      "unique       2\n",
      "top          M\n",
      "freq      3093\n",
      "Name: gender, dtype: object\n"
     ]
    }
   ],
   "source": [
    "print(final_df['gender'].describe())"
   ]
  },
  {
   "cell_type": "markdown",
   "metadata": {},
   "source": [
    "# Finally Train a model and get results"
   ]
  },
  {
   "cell_type": "code",
   "execution_count": 267,
   "metadata": {},
   "outputs": [
    {
     "name": "stdout",
     "output_type": "stream",
     "text": [
      "age                            0\n",
      "diabetes_mellitus              0\n",
      "height                         0\n",
      "weight                         0\n",
      "aids                           0\n",
      "cirrhosis                      0\n",
      "hepatic_failure                0\n",
      "immunosuppression              0\n",
      "leukemia                       0\n",
      "lymphoma                       0\n",
      "solid_tumor_with_metastasis    0\n",
      "dtype: int64\n",
      "age                            0\n",
      "diabetes_mellitus              0\n",
      "height                         0\n",
      "weight                         0\n",
      "aids                           0\n",
      "cirrhosis                      0\n",
      "hepatic_failure                0\n",
      "immunosuppression              0\n",
      "leukemia                       0\n",
      "lymphoma                       0\n",
      "solid_tumor_with_metastasis    0\n",
      "dtype: int64\n"
     ]
    }
   ],
   "source": [
    "features1 = ['age', 'diabetes_mellitus', 'height', 'weight', 'aids', 'cirrhosis', 'hepatic_failure', 'immunosuppression', 'leukemia', 'lymphoma', 'solid_tumor_with_metastasis']\n",
    "print(imputed_df[features1].isna().sum())\n",
    "print(dft1[features1].isna().sum())\n",
    "\n"
   ]
  },
  {
   "cell_type": "code",
   "execution_count": 276,
   "metadata": {},
   "outputs": [
    {
     "name": "stdout",
     "output_type": "stream",
     "text": [
      "Train Accuracy: 0.9825249643366619\n",
      "Test Accuracy: 0.736436170212766\n",
      "Train ROC AUC: 0.9982659252128632\n",
      "Test ROC AUC: 0.6136113120253893\n"
     ]
    },
    {
     "name": "stderr",
     "output_type": "stream",
     "text": [
      "C:\\Users\\arimi\\AppData\\Local\\Temp\\ipykernel_10308\\3579412332.py:14: SettingWithCopyWarning: \n",
      "A value is trying to be set on a copy of a slice from a DataFrame.\n",
      "Try using .loc[row_indexer,col_indexer] = value instead\n",
      "\n",
      "See the caveats in the documentation: https://pandas.pydata.org/pandas-docs/stable/user_guide/indexing.html#returning-a-view-versus-a-copy\n",
      "  c['train_predictions'] = train_predictions\n",
      "C:\\Users\\arimi\\AppData\\Local\\Temp\\ipykernel_10308\\3579412332.py:15: SettingWithCopyWarning: \n",
      "A value is trying to be set on a copy of a slice from a DataFrame.\n",
      "Try using .loc[row_indexer,col_indexer] = value instead\n",
      "\n",
      "See the caveats in the documentation: https://pandas.pydata.org/pandas-docs/stable/user_guide/indexing.html#returning-a-view-versus-a-copy\n",
      "  d['test_predictions'] = test_predictions\n"
     ]
    }
   ],
   "source": [
    "def model(c, d):\n",
    "    features = ['age', 'height', 'weight', 'aids', 'cirrhosis', 'hepatic_failure', 'immunosuppression', 'leukemia', 'lymphoma', 'solid_tumor_with_metastasis']\n",
    "    target = 'diabetes_mellitus'\n",
    "    X = c[features]\n",
    "    Y = c[target]\n",
    "    Xt = d[features]\n",
    "    Yt = d[target]\n",
    "    model = RandomForestClassifier(n_estimators=100, random_state=42)\n",
    "    model.fit(X, Y)\n",
    "    train_predictions = model.predict_proba(X)[:, 1]\n",
    "    test_predictions = model.predict_proba(Xt)[:, 1]\n",
    "    y_train_pred = model.predict(X)\n",
    "    y_test_pred = model.predict(Xt)\n",
    "    c['train_predictions'] = train_predictions\n",
    "    d['test_predictions'] = test_predictions\n",
    "    train_accuracy = accuracy_score(Y, y_train_pred)\n",
    "    test_accuracy = accuracy_score(Yt, y_test_pred)\n",
    "    print(\"Train Accuracy:\", train_accuracy)\n",
    "    print(\"Test Accuracy:\", test_accuracy)\n",
    "    train_roc_auc = roc_auc_score(Y, train_predictions)\n",
    "    test_roc_auc = roc_auc_score(Yt, test_predictions)\n",
    "    print(\"Train ROC AUC:\", train_roc_auc)\n",
    "    print(\"Test ROC AUC:\", test_roc_auc)\n",
    "    return c, d\n",
    "   \n",
    "\n",
    "modeloTra, modeloTes = model(imputed_df, dft1)\n",
    "\n"
   ]
  },
  {
   "cell_type": "code",
   "execution_count": 274,
   "metadata": {},
   "outputs": [
    {
     "data": {
      "text/html": [
       "<div>\n",
       "<style scoped>\n",
       "    .dataframe tbody tr th:only-of-type {\n",
       "        vertical-align: middle;\n",
       "    }\n",
       "\n",
       "    .dataframe tbody tr th {\n",
       "        vertical-align: top;\n",
       "    }\n",
       "\n",
       "    .dataframe thead th {\n",
       "        text-align: right;\n",
       "    }\n",
       "</style>\n",
       "<table border=\"1\" class=\"dataframe\">\n",
       "  <thead>\n",
       "    <tr style=\"text-align: right;\">\n",
       "      <th></th>\n",
       "      <th>Unnamed: 0</th>\n",
       "      <th>encounter_id</th>\n",
       "      <th>hospital_id</th>\n",
       "      <th>age</th>\n",
       "      <th>bmi</th>\n",
       "      <th>elective_surgery</th>\n",
       "      <th>height</th>\n",
       "      <th>icu_id</th>\n",
       "      <th>pre_icu_los_days</th>\n",
       "      <th>readmission_status</th>\n",
       "      <th>...</th>\n",
       "      <th>wbc_apache</th>\n",
       "      <th>aids</th>\n",
       "      <th>cirrhosis</th>\n",
       "      <th>hepatic_failure</th>\n",
       "      <th>immunosuppression</th>\n",
       "      <th>leukemia</th>\n",
       "      <th>lymphoma</th>\n",
       "      <th>solid_tumor_with_metastasis</th>\n",
       "      <th>diabetes_mellitus</th>\n",
       "      <th>train_predictions</th>\n",
       "    </tr>\n",
       "  </thead>\n",
       "  <tbody>\n",
       "    <tr>\n",
       "      <th>count</th>\n",
       "      <td>5608.000000</td>\n",
       "      <td>5608.000000</td>\n",
       "      <td>5608.000000</td>\n",
       "      <td>5608.000000</td>\n",
       "      <td>4644.000000</td>\n",
       "      <td>5608.000000</td>\n",
       "      <td>5608.000000</td>\n",
       "      <td>5608.000000</td>\n",
       "      <td>5608.000000</td>\n",
       "      <td>5608.0</td>\n",
       "      <td>...</td>\n",
       "      <td>4357.000000</td>\n",
       "      <td>5608.000000</td>\n",
       "      <td>5608.000000</td>\n",
       "      <td>5608.000000</td>\n",
       "      <td>5608.000000</td>\n",
       "      <td>5608.000000</td>\n",
       "      <td>5608.000000</td>\n",
       "      <td>5608.000000</td>\n",
       "      <td>5608.000000</td>\n",
       "      <td>5608.000000</td>\n",
       "    </tr>\n",
       "    <tr>\n",
       "      <th>mean</th>\n",
       "      <td>5009.226106</td>\n",
       "      <td>212770.081491</td>\n",
       "      <td>103.480563</td>\n",
       "      <td>62.096113</td>\n",
       "      <td>30.086589</td>\n",
       "      <td>0.229672</td>\n",
       "      <td>170.006221</td>\n",
       "      <td>105.151034</td>\n",
       "      <td>0.664731</td>\n",
       "      <td>0.0</td>\n",
       "      <td>...</td>\n",
       "      <td>11.525763</td>\n",
       "      <td>0.000535</td>\n",
       "      <td>0.019437</td>\n",
       "      <td>0.014800</td>\n",
       "      <td>0.045827</td>\n",
       "      <td>0.006598</td>\n",
       "      <td>0.005171</td>\n",
       "      <td>0.026213</td>\n",
       "      <td>0.233595</td>\n",
       "      <td>0.235649</td>\n",
       "    </tr>\n",
       "    <tr>\n",
       "      <th>std</th>\n",
       "      <td>2861.906749</td>\n",
       "      <td>38093.048325</td>\n",
       "      <td>30.693209</td>\n",
       "      <td>16.657339</td>\n",
       "      <td>8.538092</td>\n",
       "      <td>0.420659</td>\n",
       "      <td>10.596279</td>\n",
       "      <td>16.960298</td>\n",
       "      <td>2.193111</td>\n",
       "      <td>0.0</td>\n",
       "      <td>...</td>\n",
       "      <td>6.659038</td>\n",
       "      <td>0.023125</td>\n",
       "      <td>0.138066</td>\n",
       "      <td>0.120764</td>\n",
       "      <td>0.209129</td>\n",
       "      <td>0.080965</td>\n",
       "      <td>0.071731</td>\n",
       "      <td>0.159781</td>\n",
       "      <td>0.423155</td>\n",
       "      <td>0.287840</td>\n",
       "    </tr>\n",
       "    <tr>\n",
       "      <th>min</th>\n",
       "      <td>1.000000</td>\n",
       "      <td>147009.000000</td>\n",
       "      <td>4.000000</td>\n",
       "      <td>16.000000</td>\n",
       "      <td>14.844926</td>\n",
       "      <td>0.000000</td>\n",
       "      <td>137.200000</td>\n",
       "      <td>82.000000</td>\n",
       "      <td>-0.224306</td>\n",
       "      <td>0.0</td>\n",
       "      <td>...</td>\n",
       "      <td>0.900000</td>\n",
       "      <td>0.000000</td>\n",
       "      <td>0.000000</td>\n",
       "      <td>0.000000</td>\n",
       "      <td>0.000000</td>\n",
       "      <td>0.000000</td>\n",
       "      <td>0.000000</td>\n",
       "      <td>0.000000</td>\n",
       "      <td>0.000000</td>\n",
       "      <td>0.000000</td>\n",
       "    </tr>\n",
       "    <tr>\n",
       "      <th>25%</th>\n",
       "      <td>2503.750000</td>\n",
       "      <td>179559.500000</td>\n",
       "      <td>83.000000</td>\n",
       "      <td>52.000000</td>\n",
       "      <td>24.208110</td>\n",
       "      <td>0.000000</td>\n",
       "      <td>162.600000</td>\n",
       "      <td>92.000000</td>\n",
       "      <td>0.002778</td>\n",
       "      <td>0.0</td>\n",
       "      <td>...</td>\n",
       "      <td>7.100000</td>\n",
       "      <td>0.000000</td>\n",
       "      <td>0.000000</td>\n",
       "      <td>0.000000</td>\n",
       "      <td>0.000000</td>\n",
       "      <td>0.000000</td>\n",
       "      <td>0.000000</td>\n",
       "      <td>0.000000</td>\n",
       "      <td>0.000000</td>\n",
       "      <td>0.030000</td>\n",
       "    </tr>\n",
       "    <tr>\n",
       "      <th>50%</th>\n",
       "      <td>5074.500000</td>\n",
       "      <td>212536.000000</td>\n",
       "      <td>118.000000</td>\n",
       "      <td>64.000000</td>\n",
       "      <td>28.548361</td>\n",
       "      <td>0.000000</td>\n",
       "      <td>170.200000</td>\n",
       "      <td>99.000000</td>\n",
       "      <td>0.011111</td>\n",
       "      <td>0.0</td>\n",
       "      <td>...</td>\n",
       "      <td>9.900000</td>\n",
       "      <td>0.000000</td>\n",
       "      <td>0.000000</td>\n",
       "      <td>0.000000</td>\n",
       "      <td>0.000000</td>\n",
       "      <td>0.000000</td>\n",
       "      <td>0.000000</td>\n",
       "      <td>0.000000</td>\n",
       "      <td>0.000000</td>\n",
       "      <td>0.090000</td>\n",
       "    </tr>\n",
       "    <tr>\n",
       "      <th>75%</th>\n",
       "      <td>7429.500000</td>\n",
       "      <td>245997.750000</td>\n",
       "      <td>118.000000</td>\n",
       "      <td>75.000000</td>\n",
       "      <td>34.107878</td>\n",
       "      <td>0.000000</td>\n",
       "      <td>177.800000</td>\n",
       "      <td>114.000000</td>\n",
       "      <td>0.175868</td>\n",
       "      <td>0.0</td>\n",
       "      <td>...</td>\n",
       "      <td>14.500000</td>\n",
       "      <td>0.000000</td>\n",
       "      <td>0.000000</td>\n",
       "      <td>0.000000</td>\n",
       "      <td>0.000000</td>\n",
       "      <td>0.000000</td>\n",
       "      <td>0.000000</td>\n",
       "      <td>0.000000</td>\n",
       "      <td>0.000000</td>\n",
       "      <td>0.326250</td>\n",
       "    </tr>\n",
       "    <tr>\n",
       "      <th>max</th>\n",
       "      <td>9999.000000</td>\n",
       "      <td>278974.000000</td>\n",
       "      <td>198.000000</td>\n",
       "      <td>89.000000</td>\n",
       "      <td>67.814990</td>\n",
       "      <td>1.000000</td>\n",
       "      <td>195.590000</td>\n",
       "      <td>170.000000</td>\n",
       "      <td>38.052083</td>\n",
       "      <td>0.0</td>\n",
       "      <td>...</td>\n",
       "      <td>45.800000</td>\n",
       "      <td>1.000000</td>\n",
       "      <td>1.000000</td>\n",
       "      <td>1.000000</td>\n",
       "      <td>1.000000</td>\n",
       "      <td>1.000000</td>\n",
       "      <td>1.000000</td>\n",
       "      <td>1.000000</td>\n",
       "      <td>1.000000</td>\n",
       "      <td>0.990000</td>\n",
       "    </tr>\n",
       "  </tbody>\n",
       "</table>\n",
       "<p>8 rows × 48 columns</p>\n",
       "</div>"
      ],
      "text/plain": [
       "        Unnamed: 0   encounter_id  hospital_id          age          bmi  \\\n",
       "count  5608.000000    5608.000000  5608.000000  5608.000000  4644.000000   \n",
       "mean   5009.226106  212770.081491   103.480563    62.096113    30.086589   \n",
       "std    2861.906749   38093.048325    30.693209    16.657339     8.538092   \n",
       "min       1.000000  147009.000000     4.000000    16.000000    14.844926   \n",
       "25%    2503.750000  179559.500000    83.000000    52.000000    24.208110   \n",
       "50%    5074.500000  212536.000000   118.000000    64.000000    28.548361   \n",
       "75%    7429.500000  245997.750000   118.000000    75.000000    34.107878   \n",
       "max    9999.000000  278974.000000   198.000000    89.000000    67.814990   \n",
       "\n",
       "       elective_surgery       height       icu_id  pre_icu_los_days  \\\n",
       "count       5608.000000  5608.000000  5608.000000       5608.000000   \n",
       "mean           0.229672   170.006221   105.151034          0.664731   \n",
       "std            0.420659    10.596279    16.960298          2.193111   \n",
       "min            0.000000   137.200000    82.000000         -0.224306   \n",
       "25%            0.000000   162.600000    92.000000          0.002778   \n",
       "50%            0.000000   170.200000    99.000000          0.011111   \n",
       "75%            0.000000   177.800000   114.000000          0.175868   \n",
       "max            1.000000   195.590000   170.000000         38.052083   \n",
       "\n",
       "       readmission_status  ...   wbc_apache         aids    cirrhosis  \\\n",
       "count              5608.0  ...  4357.000000  5608.000000  5608.000000   \n",
       "mean                  0.0  ...    11.525763     0.000535     0.019437   \n",
       "std                   0.0  ...     6.659038     0.023125     0.138066   \n",
       "min                   0.0  ...     0.900000     0.000000     0.000000   \n",
       "25%                   0.0  ...     7.100000     0.000000     0.000000   \n",
       "50%                   0.0  ...     9.900000     0.000000     0.000000   \n",
       "75%                   0.0  ...    14.500000     0.000000     0.000000   \n",
       "max                   0.0  ...    45.800000     1.000000     1.000000   \n",
       "\n",
       "       hepatic_failure  immunosuppression     leukemia     lymphoma  \\\n",
       "count      5608.000000        5608.000000  5608.000000  5608.000000   \n",
       "mean          0.014800           0.045827     0.006598     0.005171   \n",
       "std           0.120764           0.209129     0.080965     0.071731   \n",
       "min           0.000000           0.000000     0.000000     0.000000   \n",
       "25%           0.000000           0.000000     0.000000     0.000000   \n",
       "50%           0.000000           0.000000     0.000000     0.000000   \n",
       "75%           0.000000           0.000000     0.000000     0.000000   \n",
       "max           1.000000           1.000000     1.000000     1.000000   \n",
       "\n",
       "       solid_tumor_with_metastasis  diabetes_mellitus  train_predictions  \n",
       "count                  5608.000000        5608.000000        5608.000000  \n",
       "mean                      0.026213           0.233595           0.235649  \n",
       "std                       0.159781           0.423155           0.287840  \n",
       "min                       0.000000           0.000000           0.000000  \n",
       "25%                       0.000000           0.000000           0.030000  \n",
       "50%                       0.000000           0.000000           0.090000  \n",
       "75%                       0.000000           0.000000           0.326250  \n",
       "max                       1.000000           1.000000           0.990000  \n",
       "\n",
       "[8 rows x 48 columns]"
      ]
     },
     "execution_count": 274,
     "metadata": {},
     "output_type": "execute_result"
    }
   ],
   "source": [
    "modeloTra.describe()\n"
   ]
  }
 ],
 "metadata": {
  "kernelspec": {
   "display_name": "base",
   "language": "python",
   "name": "python3"
  },
  "language_info": {
   "codemirror_mode": {
    "name": "ipython",
    "version": 3
   },
   "file_extension": ".py",
   "mimetype": "text/x-python",
   "name": "python",
   "nbconvert_exporter": "python",
   "pygments_lexer": "ipython3",
   "version": "3.11.4"
  }
 },
 "nbformat": 4,
 "nbformat_minor": 2
}
